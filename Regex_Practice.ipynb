{
 "cells": [
  {
   "cell_type": "markdown",
   "metadata": {},
   "source": [
    "# Using regular expressions to parse through a messy .txt file"
   ]
  },
  {
   "cell_type": "markdown",
   "metadata": {},
   "source": [
    "#### Imports"
   ]
  },
  {
   "cell_type": "code",
   "execution_count": 1,
   "metadata": {},
   "outputs": [],
   "source": [
    "#https://github.com/Austin-Czyzewski/Regular-Expressions-Demo\n",
    "import glob\n",
    "import re\n",
    "import numpy as np\n",
    "import matplotlib.pyplot as plt\n",
    "import seaborn\n",
    "seaborn.set()\n",
    "import pandas as pd"
   ]
  },
  {
   "cell_type": "markdown",
   "metadata": {},
   "source": [
    "#### Grab our file"
   ]
  },
  {
   "cell_type": "code",
   "execution_count": 2,
   "metadata": {},
   "outputs": [
    {
     "name": "stdout",
     "output_type": "stream",
     "text": [
      "['thisisacrazyfile.txt']\n"
     ]
    }
   ],
   "source": [
    "files = glob.glob(\"*.txt\")\n",
    "print(files)"
   ]
  },
  {
   "cell_type": "markdown",
   "metadata": {},
   "source": [
    "#### Open Our file with Python"
   ]
  },
  {
   "cell_type": "code",
   "execution_count": 3,
   "metadata": {},
   "outputs": [
    {
     "name": "stdout",
     "output_type": "stream",
     "text": [
      "lkjahsdkjfh$AAPL.{formatting__Garbage__January 11 2021}.newgarbage..youdontneedtoknowthisstuff::132.43dkjhasdf--Apple Inc.--alsdi;fasdf;liu ;oa\n",
      "kasdfkj$F.{formatting__Garbage__January 8 2021}.newgarbage..youdontneedtoknowthisstuff::9.10dkjhasdf--Ford Motor Company--alsdi;fasdf;liu ;oa\n",
      "asdfasvdkjhfglasjkdblf; jabn$AMZN.{formatting__Garbage__January 5 2021}.newgarbage..youdontneedtoknowthisstuff::3166.01dkjhasdf--Amazon.com, Inc.--alsdi;fasdf;liu ;oa\n",
      "ahsd;f$GME.{formatting__Garbage__December 29 2020}.newgarbage..youdontneedtoknowthisstuff::20.82kjhasdf--GameStop Corp.--alsdi;fasdf;liu ;oa\n",
      "$GOEV.{formatting__Garbage__January 7 2021}.newgarbage..youdontneedtoknowthisstuff::14.49dkjhasdf--Canoo Holdings Ltd.--alsdi;fasdf;liu ;oa\n",
      "adlsifhlaisdhfklhalsdkjhflkjahsdlkjug askdfkagsdkuvg lakusdghfkuashldkiuvfh aksjdhflkajshd flkj hasf$F.{formatting__Garbage__December 10 2020}.newgarbage..youdontneedtoknowthisstuff::9.31dkjhasdf--Ford Motor Company--alsdi;fasdf;liu ;oa\n",
      "----------------------------------------------------------------------------------------------\n",
      "randomgarbage$AMZN.{formatting__Garbage__January 11 2021}.newgarbage..youdontneedtoknowthisstuff::3180.00dkjhasdf--Amazon.com, Inc.--alsdi;fasdf;liu ;oa\n",
      "austinczyzewski$AAPL.{formatting__Garbage__December 28 2020}.newgarbage..youdontneedtoknowthisstuff::133.99dkjhasdf--Apple Inc.--alsdi;fasdf;liu ;oa\n",
      "asd$GME.{formatting__Garbage__December 11 2020}.newgarbage..youdontneedtoknowthisstuff::13.91dkjhasdf--GameStop Corp.--alsdi;fasdf;liu ;oa\n",
      "Iwashere$TSLA.{formatting__Garbage__January 5 2021}.newgarbage..youdontneedtoknowthisstuff::723.66dkjhasdf--Tesla, Inc.--alsdi;fasdf;liu ;oa\n",
      "blahblahblah$AMZN.{formatting__Garbage__January 7 2021}.newgarbage..youdontneedtoknowthisstuff::3157.00dkjhasdf--Amazon.com, Inc.--alsdi;fasdf;liu ;oa\n",
      "----------------------------------------------------------------------------------------------\n"
     ]
    }
   ],
   "source": [
    "with open(files[0], 'r') as file:\n",
    "    giant_string = file.read()\n",
    "    \n",
    "print(giant_string)"
   ]
  },
  {
   "cell_type": "markdown",
   "metadata": {},
   "source": [
    "#### File breakdown:\n",
    " - You can see that we have 4 major pieces of information hidden in this file. The first is the ticker symbol. In this case it is always started with a '\\$' and ends with a '.'\n",
    " - The next is the date, this is within curly brackets and is always at the end of those brackets following '__'\n",
    " - Next up is the opening price of that stock on the date. This is always following '::' and has text after it.\n",
    " - Finally, we have the name of the company, located within two sets of '--'... but we also have random breaks of many '-' that may throw a hitch in some of our plans."
   ]
  },
  {
   "cell_type": "code",
   "execution_count": 4,
   "metadata": {},
   "outputs": [],
   "source": [
    "ticker_symbols = re.findall('[$].{,5}[.]{1}',giant_string)\n",
    "#What this regex is saying is:\n",
    "    #We are looking for any instance of a literal $ followed by up to 5 characters (longest length of a ticker symbol) and then followed by one literal '.'\n",
    "dates = re.findall('__.{,11}\\s\\d+[}]', giant_string)\n",
    "#This regex says: we are looking for any instance of '__' followed by up to 11 characters (longest month (September, plus our two __) that precede a space.\n",
    "    #That space must then be followed by a number and finally end with a bracket.\n",
    "opening_prices = re.findall('::\\d+\\.\\d+',giant_string)\n",
    "#This regex searches for: two colons followed by any number of numbers followed by exactly one . and then any number of numbers (this could also be set to just two numbers)\n",
    "company_names = re.findall('(?!-{3,})(--.+--)', giant_string)\n",
    "#This regex includes any exclusion statement that says: do not include any information that is between 3 or more hyphens. If that condition is not met, then look for \n",
    "# Any characters between two sets of --"
   ]
  },
  {
   "cell_type": "code",
   "execution_count": 5,
   "metadata": {},
   "outputs": [
    {
     "name": "stdout",
     "output_type": "stream",
     "text": [
      "0 $AAPL. __January 11 2021} ::132.43 --Apple Inc.--\n",
      "1 $F. __January 8 2021} ::9.10 --Ford Motor Company--\n",
      "2 $AMZN. __January 5 2021} ::3166.01 --Amazon.com, Inc.--\n",
      "3 $GME. __December 29 2020} ::20.82 --GameStop Corp.--\n",
      "4 $GOEV. __January 7 2021} ::14.49 --Canoo Holdings Ltd.--\n",
      "5 $F. __December 10 2020} ::9.31 --Ford Motor Company--\n",
      "6 $AMZN. __January 11 2021} ::3180.00 --Amazon.com, Inc.--\n",
      "7 $AAPL. __December 28 2020} ::133.99 --Apple Inc.--\n",
      "8 $GME. __December 11 2020} ::13.91 --GameStop Corp.--\n",
      "9 $TSLA. __January 5 2021} ::723.66 --Tesla, Inc.--\n",
      "10 $AMZN. __January 7 2021} ::3157.00 --Amazon.com, Inc.--\n"
     ]
    }
   ],
   "source": [
    "for number, (symbol, date, price, name) in enumerate(zip(ticker_symbols, dates, opening_prices, company_names)):\n",
    "    print(number, symbol, date, price, name)"
   ]
  },
  {
   "cell_type": "markdown",
   "metadata": {},
   "source": [
    "#### Clean up our data a little bit\n",
    "\n",
    "We know what we were searching for, so this step usually just includes getting rid of those pesky delimiters."
   ]
  },
  {
   "cell_type": "code",
   "execution_count": 6,
   "metadata": {},
   "outputs": [],
   "source": [
    "for number, (symbol, date, price, name) in enumerate(zip(ticker_symbols, dates, opening_prices, company_names)):\n",
    "    ticker_symbols[number] = re.sub('\\$|\\.','',symbol) #Replace all literal $ or literal . with nothing\n",
    "    dates[number] = re.sub('__|\\}','',date) #Replace all __ or curly end brackets with nothing\n",
    "    opening_prices[number] = float(re.sub('::','',price)) #You see the trend now, but this time we are casting that result as a float\n",
    "    company_names[number] = re.sub('--','',name)"
   ]
  },
  {
   "cell_type": "code",
   "execution_count": 7,
   "metadata": {},
   "outputs": [
    {
     "name": "stdout",
     "output_type": "stream",
     "text": [
      "0 AAPL January 11 2021 132.43 Apple Inc.\n",
      "1 F January 8 2021 9.1 Ford Motor Company\n",
      "2 AMZN January 5 2021 3166.01 Amazon.com, Inc.\n",
      "3 GME December 29 2020 20.82 GameStop Corp.\n",
      "4 GOEV January 7 2021 14.49 Canoo Holdings Ltd.\n",
      "5 F December 10 2020 9.31 Ford Motor Company\n",
      "6 AMZN January 11 2021 3180.0 Amazon.com, Inc.\n",
      "7 AAPL December 28 2020 133.99 Apple Inc.\n",
      "8 GME December 11 2020 13.91 GameStop Corp.\n",
      "9 TSLA January 5 2021 723.66 Tesla, Inc.\n",
      "10 AMZN January 7 2021 3157.0 Amazon.com, Inc.\n"
     ]
    }
   ],
   "source": [
    "for number, (symbol, date, price, name) in enumerate(zip(ticker_symbols, dates, opening_prices, company_names)):\n",
    "    print(number, symbol, date, price, name)"
   ]
  },
  {
   "cell_type": "markdown",
   "metadata": {},
   "source": [
    "That looks much better, now that we have that sorted, we can push this into an excel file."
   ]
  },
  {
   "cell_type": "code",
   "execution_count": 8,
   "metadata": {},
   "outputs": [
    {
     "name": "stdout",
     "output_type": "stream",
     "text": [
      "                                   0                   1                 2  \\\n",
      "Ticker Symbol                   AAPL                   F              AMZN   \n",
      "Date                 January 11 2021      January 8 2021    January 5 2021   \n",
      "Opening Price (USD)           132.43                 9.1           3166.01   \n",
      "Company Name              Apple Inc.  Ford Motor Company  Amazon.com, Inc.   \n",
      "\n",
      "                                    3                    4  \\\n",
      "Ticker Symbol                     GME                 GOEV   \n",
      "Date                 December 29 2020       January 7 2021   \n",
      "Opening Price (USD)             20.82                14.49   \n",
      "Company Name           GameStop Corp.  Canoo Holdings Ltd.   \n",
      "\n",
      "                                      5                 6                 7  \\\n",
      "Ticker Symbol                         F              AMZN              AAPL   \n",
      "Date                   December 10 2020   January 11 2021  December 28 2020   \n",
      "Opening Price (USD)                9.31              3180            133.99   \n",
      "Company Name         Ford Motor Company  Amazon.com, Inc.        Apple Inc.   \n",
      "\n",
      "                                    8               9                10  \n",
      "Ticker Symbol                     GME            TSLA              AMZN  \n",
      "Date                 December 11 2020  January 5 2021    January 7 2021  \n",
      "Opening Price (USD)             13.91          723.66              3157  \n",
      "Company Name           GameStop Corp.     Tesla, Inc.  Amazon.com, Inc.  \n",
      "------------------------------------------------------------\n",
      "  Ticker Symbol              Date Opening Price (USD)         Company Name\n",
      "0          AAPL   January 11 2021              132.43           Apple Inc.\n",
      "1             F    January 8 2021                 9.1   Ford Motor Company\n",
      "2          AMZN    January 5 2021             3166.01     Amazon.com, Inc.\n",
      "3           GME  December 29 2020               20.82       GameStop Corp.\n",
      "4          GOEV    January 7 2021               14.49  Canoo Holdings Ltd.\n"
     ]
    }
   ],
   "source": [
    "stock_data = pd.DataFrame([ticker_symbols, dates, opening_prices, company_names], index = ['Ticker Symbol','Date','Opening Price (USD)','Company Name'])\n",
    "#First we will put our data into a dataframe to make use of a nifty Pandas demo\n",
    "print(stock_data.head())\n",
    "print('-'*60)\n",
    "stock_data = stock_data.transpose()\n",
    "#I prefer my data to expand into the rows, not the column\n",
    "print(stock_data.head())\n",
    "\n",
    "stock_data.to_excel('Stock_Data.xlsx', index = False) #Write the dataframe to excel without the index. Our index contains no unique information so we get rid of it"
   ]
  }
 ],
 "metadata": {
  "kernelspec": {
   "display_name": "Python 3",
   "language": "python",
   "name": "python3"
  },
  "language_info": {
   "codemirror_mode": {
    "name": "ipython",
    "version": 3
   },
   "file_extension": ".py",
   "mimetype": "text/x-python",
   "name": "python",
   "nbconvert_exporter": "python",
   "pygments_lexer": "ipython3",
   "version": "3.8.1"
  }
 },
 "nbformat": 4,
 "nbformat_minor": 4
}
