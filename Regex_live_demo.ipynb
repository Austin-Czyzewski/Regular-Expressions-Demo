{
 "cells": [
  {
   "cell_type": "markdown",
   "metadata": {},
   "source": [
    "# https://github.com/Austin-Czyzewski/Regular-Expressions-Demo"
   ]
  },
  {
   "cell_type": "code",
   "execution_count": null,
   "metadata": {},
   "outputs": [],
   "source": [
    "import glob\n",
    "import re\n",
    "import pandas as pd\n",
    "\n",
    "files = glob.glob(\"*.txt\")\n",
    "print(files)\n",
    "\n",
    "with open(files[0], 'r') as file:\n",
    "    giant_string = file.read()\n",
    "    \n",
    "print(giant_string)"
   ]
  },
  {
   "cell_type": "code",
   "execution_count": null,
   "metadata": {},
   "outputs": [],
   "source": [
    "ticker_symbols = re.findall('[$].{,5}[.]{1}',giant_string)\n",
    "\n",
    "dates = re.findall('__.{,11}\\s\\d+[}]', giant_string)\n",
    "\n",
    "opening_prices = re.findall('::\\d+\\.\\d+',giant_string)\n",
    "\n",
    "company_names = re.findall('(?!-{3,})(--.+--)', giant_string)\n",
    "\n",
    "for number, (symbol, date, price, name) in enumerate(zip(ticker_symbols, dates, opening_prices, company_names)):\n",
    "    print(number, symbol, date, price, name)\n",
    "    ticker_symbols[number] = re.sub('\\$|\\.','',symbol)\n",
    "    dates[number] = re.sub('__|\\}','',date)\n",
    "    opening_prices[number] = float(re.sub('::','',price))\n",
    "    company_names[number] = re.sub('--','',name)\n",
    "print('#'*60 + '\\n' + '#'*60)\n",
    "for number, (symbol, date, price, name) in enumerate(zip(ticker_symbols, dates, opening_prices, company_names)):\n",
    "    print(number, symbol, date, price, name)"
   ]
  },
  {
   "cell_type": "code",
   "execution_count": null,
   "metadata": {},
   "outputs": [],
   "source": [
    "stock_data = pd.DataFrame([ticker_symbols, dates, opening_prices, company_names], index = ['Ticker Symbol','Date','Opening Price (USD)','Company Name'])\n",
    "\n",
    "print(stock_data.head())\n",
    "print('#'*60 + '\\n' + '#'*60)\n",
    "stock_data = stock_data.transpose()\n",
    "print(stock_data.head())\n",
    "\n",
    "stock_data.to_excel('Stock_Data.xlsx', index = False)\n",
    "print('Done pushing to excel')"
   ]
  }
 ],
 "metadata": {
  "kernelspec": {
   "display_name": "Python 3",
   "language": "python",
   "name": "python3"
  },
  "language_info": {
   "codemirror_mode": {
    "name": "ipython",
    "version": 3
   },
   "file_extension": ".py",
   "mimetype": "text/x-python",
   "name": "python",
   "nbconvert_exporter": "python",
   "pygments_lexer": "ipython3",
   "version": "3.8.1"
  }
 },
 "nbformat": 4,
 "nbformat_minor": 4
}
